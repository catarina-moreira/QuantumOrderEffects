{
 "cells": [
  {
   "cell_type": "markdown",
   "metadata": {},
   "source": [
    "# Comparing Quantum vs Markov Random Walk Models of Judgements Mwasured by Rating Scale\n",
    "\n",
    "**Authors: Z. Wang and J. Busemeyer**\n"
   ]
  },
  {
   "cell_type": "code",
   "execution_count": 1,
   "metadata": {},
   "outputs": [],
   "source": [
    "import numpy as np\n",
    "import pandas as pd\n",
    "from scipy.linalg import expm\n",
    "\n",
    "import matplotlib.pyplot as plt\n",
    "import seaborn as sns\n",
    "\n",
    "from qiskit.visualization import plot_bloch_vector\n",
    "\n",
    "sns.set()"
   ]
  },
  {
   "cell_type": "markdown",
   "metadata": {},
   "source": [
    "## Overall Paper: AB Model"
   ]
  },
  {
   "cell_type": "markdown",
   "metadata": {},
   "source": [
    "**Hypothesis:** The process of switching from a self's own perspective to another;s perspective requires a conginitive shift to imagine what the other person is thinking. This can lead to **incompatibility** of mental states, which generates order effects. A quantum model would be better to model this type of scenario than a classical model. This paper investigates the application of a quantum random walk vs a Markov random walk in rating the effectiveness of public service announcements (PSA) from two perspectives: the self perspective and the other perpective."
   ]
  },
  {
   "cell_type": "markdown",
   "metadata": {},
   "source": [
    "### Markov Random Walk\n",
    "\n",
    "#### State Definition\n",
    "\n",
    "For both models, it was assumed that judges are capable of using a very fine lattice with approximatelly 100 states. More specifically, we ser $n_k = 11$ evaluation states assigned to each rating scale value, and with $k=1,...,9$ rating scale values, this produces a total of $N=9.11=99$ evaluation states.  The first $n_1$ evaluations states are assigned to the first observed rating score equal to R=1, then next $n_2$ states are assigned the next observed rating score equal to R=2, and so on. For a 9-point rating scale, the last $n_9$ states are assigned the observed rating score to R=9.\n",
    "\n",
    "<img src=\"./images/state_representation.png\" width=\"500\" />"
   ]
  },
  {
   "cell_type": "code",
   "execution_count": 2,
   "metadata": {},
   "outputs": [],
   "source": [
    "# defining initial_state\n",
    "def initial_state( rating, dims, base ):\n",
    "    E0 = np.zeros(dims)\n",
    "\n",
    "    rating_inter = [rating*base - base+1, rating*base]\n",
    "    \n",
    "    # in python, indexes start in zero, so we need to adjust the interval\n",
    "    N =  rating_inter[1] - (rating_inter[0]-1)\n",
    "    E0[rating_inter[0]-1:rating_inter[1]] = 1/N\n",
    "\n",
    "    return E0"
   ]
  },
  {
   "cell_type": "markdown",
   "metadata": {},
   "source": [
    "#### Markov Intensity Matrix\n",
    "\n",
    "The intensity matrix $K[ij]$ is a tridiagonal matrix with entries $k_{i-1,j} = α$ in the upper diagonal and $k_{i+1,j} = β$ in the lower diagonal and $k_{ii} = -(α + β)$ on the diagonal. \n",
    "\n",
    "$$ K_{self} =  \\begin{bmatrix} -(α_{self} + β_{self}) & α_{self}        & 0 & 0 & 0 \\\\\n",
    "                               β        & -(α_{self} + β_{self}) & α_{self} & 0 & 0 \\\\\n",
    "                               0        & β_{self}       & -(α_{self} + β_{self}) & α_{self} & 0 \\\\\n",
    "                               0        & 0 & β_{self} & -(α_{self} + β_{self}) & α_{self} \\\\\n",
    "                               0        & 0 & 0 & β_{self} & -(α_{self} + β_{self}) \\\\\n",
    "\n",
    "\\end{bmatrix}  $$\n",
    "\n",
    "\n",
    "The same applies for the perspective for the other:\n",
    "$$ K_{other} =  \\begin{bmatrix} -(α_{other} + β_{other}) & α_{other}        & 0 & 0 & 0 \\\\\n",
    "                               β        & -(α_{other} + β_{other}) & α_{other} & 0 & 0 \\\\\n",
    "                               0        & β_{other}       & -(α_{other} + β_{other}) & α_{other} & 0 \\\\\n",
    "                               0        & 0 & β_{other} & -(α_{other} + β_{other}) & α_{other} \\\\\n",
    "                               0        & 0 & 0 & β_{other} & -(α_{other} + β_{other}) \\\\\n",
    "\n",
    "\\end{bmatrix}  $$\n"
   ]
  },
  {
   "cell_type": "code",
   "execution_count": 3,
   "metadata": {},
   "outputs": [],
   "source": [
    "# defining the intensity matrix\n",
    "\n",
    "# defining the intensity matrix\n",
    "def intensity_mat( alpha, beta, dims ):\n",
    "    k = np.zeros((dims, dims))\n",
    "    \n",
    "    # set diagonal to -(alpha + beta)\n",
    "    np.fill_diagonal(k, -(alpha + beta))\n",
    "\n",
    "    # set upper main diagonal to alpha\n",
    "    m_alpha = np.diag(np.ones(dims-1)*alpha, 1)\n",
    "    # set lower main diagonal to beta\n",
    "    m_beta = np.diag(np.ones(dims-1)*beta, -1)\n",
    "\n",
    "    return k + m_alpha + m_beta"
   ]
  },
  {
   "cell_type": "markdown",
   "metadata": {},
   "source": [
    "#### Transition Matrix\n",
    "\n",
    "The Markov random walk updates the probabilities of an initial vector E using a transition matrix T that evolves through time *t*. It is defined in the following way:\n",
    "\n",
    "$$ Pr_{self} = e^{t K_s} ~~~~ Pr_{other} = e^{t K_o} $$\n",
    "\n",
    "where $K_s$ and $K_o$ represent the intensity matrices. The intensity matrix describes how the evoltion of the process is conducted. The authors defined an intensity matrix for both the *self* and the *other* perspectives of the participants.,"
   ]
  },
  {
   "cell_type": "code",
   "execution_count": 4,
   "metadata": {},
   "outputs": [],
   "source": [
    "# defining the transition matrix\n",
    "def transition_matrix( alpha, beta, t, dims ):\n",
    "    K = intensity_mat( alpha, beta, dims )\n",
    "    T = expm( t*K)\n",
    "    return T"
   ]
  },
  {
   "cell_type": "markdown",
   "metadata": {},
   "source": [
    "#### Defining Projectors"
   ]
  },
  {
   "cell_type": "code",
   "execution_count": 5,
   "metadata": {},
   "outputs": [],
   "source": [
    "# defining projectors based on ratings\n",
    "def projection_mat( rating, dims, base ):\n",
    "    M = np.zeros((dims, dims))\n",
    "\n",
    "    rating_inter = [rating*base - base+1, rating*base]\n",
    "    \n",
    "    diag_vec = np.zeros(dims)\n",
    "    # in python, indexes start in zero, so we need to adjust the interval\n",
    "    diag_vec[rating_inter[0]-1:rating_inter[1]] = 1\n",
    "    np.fill_diagonal(M, diag_vec)\n",
    "\n",
    "    return M"
   ]
  },
  {
   "cell_type": "markdown",
   "metadata": {},
   "source": [
    "#### Calculating Joint Probability: Question about Self then about Other"
   ]
  },
  {
   "cell_type": "code",
   "execution_count": 6,
   "metadata": {},
   "outputs": [],
   "source": [
    "\n",
    "def run_projections(Ndim, base, alpha_s, alpha_o, beta_s, beta_o, t, rating_s, rating_o, order):\n",
    "    rating_init = int( np.floor(base/2) )\n",
    "\n",
    "    E0 = initial_state( rating_init, Ndim, base)\n",
    "    Ts = transition_matrix( alpha_s , beta_s, t, Ndim )\n",
    "    To = transition_matrix( alpha_o , beta_o, t, Ndim )\n",
    "\n",
    "    Ms = projection_mat( rating_s, Ndim, base )\n",
    "    Mo = projection_mat( rating_o, Ndim, base )\n",
    "\n",
    "    L = np.ones(Ndim)\n",
    "    if order == 1:\n",
    "        prob = np.matmul(L, np.matmul(Mo, np.matmul(To, np.matmul(Ms, np.matmul(Ts,E0)))))\n",
    "    else:\n",
    "        prob = np.matmul(L, np.matmul(Ms, np.matmul(Ts, np.matmul(Mo, np.matmul(To,E0)))))\n",
    "\n",
    "    return prob"
   ]
  },
  {
   "cell_type": "markdown",
   "metadata": {},
   "source": [
    "#### Running Experiments"
   ]
  },
  {
   "cell_type": "code",
   "execution_count": 7,
   "metadata": {},
   "outputs": [
    {
     "ename": "KeyboardInterrupt",
     "evalue": "",
     "output_type": "error",
     "traceback": [
      "\u001b[1;31m---------------------------------------------------------------------------\u001b[0m",
      "\u001b[1;31mKeyboardInterrupt\u001b[0m                         Traceback (most recent call last)",
      "\u001b[1;32mc:\\Users\\cmore\\GitHub\\QuantumOrderEffects\\busemeyer_paper.ipynb Cell 16'\u001b[0m in \u001b[0;36m<cell line: 8>\u001b[1;34m()\u001b[0m\n\u001b[0;32m     <a href='vscode-notebook-cell:/c%3A/Users/cmore/GitHub/QuantumOrderEffects/busemeyer_paper.ipynb#ch0000015?line=16'>17</a>\u001b[0m \u001b[39mfor\u001b[39;00m ratingO \u001b[39min\u001b[39;00m \u001b[39mrange\u001b[39m(\u001b[39m1\u001b[39m,\u001b[39m11\u001b[39m):\n\u001b[0;32m     <a href='vscode-notebook-cell:/c%3A/Users/cmore/GitHub/QuantumOrderEffects/busemeyer_paper.ipynb#ch0000015?line=17'>18</a>\u001b[0m     probS \u001b[39m=\u001b[39m run_projections(\u001b[39m99\u001b[39m, \u001b[39m11\u001b[39m, alphaS, alphaO, betaS, betaO, \u001b[39m1\u001b[39m, ratingS, ratingO, \u001b[39m1\u001b[39m)\n\u001b[1;32m---> <a href='vscode-notebook-cell:/c%3A/Users/cmore/GitHub/QuantumOrderEffects/busemeyer_paper.ipynb#ch0000015?line=18'>19</a>\u001b[0m     probO \u001b[39m=\u001b[39m run_projections(\u001b[39m99\u001b[39;49m, \u001b[39m11\u001b[39;49m, alphaS, alphaO, betaS, betaO, \u001b[39m1\u001b[39;49m, ratingS, ratingO, \u001b[39m2\u001b[39;49m)\n\u001b[0;32m     <a href='vscode-notebook-cell:/c%3A/Users/cmore/GitHub/QuantumOrderEffects/busemeyer_paper.ipynb#ch0000015?line=19'>20</a>\u001b[0m     probS \u001b[39m=\u001b[39m np\u001b[39m.\u001b[39mround(probS,\u001b[39m6\u001b[39m)\n\u001b[0;32m     <a href='vscode-notebook-cell:/c%3A/Users/cmore/GitHub/QuantumOrderEffects/busemeyer_paper.ipynb#ch0000015?line=20'>21</a>\u001b[0m     probO \u001b[39m=\u001b[39m np\u001b[39m.\u001b[39mround(probO,\u001b[39m6\u001b[39m)\n",
      "\u001b[1;32mc:\\Users\\cmore\\GitHub\\QuantumOrderEffects\\busemeyer_paper.ipynb Cell 14'\u001b[0m in \u001b[0;36mrun_projections\u001b[1;34m(Ndim, base, alpha_s, alpha_o, beta_s, beta_o, t, rating_s, rating_o, order)\u001b[0m\n\u001b[0;32m      <a href='vscode-notebook-cell:/c%3A/Users/cmore/GitHub/QuantumOrderEffects/busemeyer_paper.ipynb#ch0000013?line=3'>4</a>\u001b[0m E0 \u001b[39m=\u001b[39m initial_state( rating_init, Ndim, base)\n\u001b[0;32m      <a href='vscode-notebook-cell:/c%3A/Users/cmore/GitHub/QuantumOrderEffects/busemeyer_paper.ipynb#ch0000013?line=4'>5</a>\u001b[0m Ts \u001b[39m=\u001b[39m transition_matrix( alpha_s , beta_s, t, Ndim )\n\u001b[1;32m----> <a href='vscode-notebook-cell:/c%3A/Users/cmore/GitHub/QuantumOrderEffects/busemeyer_paper.ipynb#ch0000013?line=5'>6</a>\u001b[0m To \u001b[39m=\u001b[39m transition_matrix( alpha_o , beta_o, t, Ndim )\n\u001b[0;32m      <a href='vscode-notebook-cell:/c%3A/Users/cmore/GitHub/QuantumOrderEffects/busemeyer_paper.ipynb#ch0000013?line=7'>8</a>\u001b[0m Ms \u001b[39m=\u001b[39m projection_mat( rating_s, Ndim, base )\n\u001b[0;32m      <a href='vscode-notebook-cell:/c%3A/Users/cmore/GitHub/QuantumOrderEffects/busemeyer_paper.ipynb#ch0000013?line=8'>9</a>\u001b[0m Mo \u001b[39m=\u001b[39m projection_mat( rating_o, Ndim, base )\n",
      "\u001b[1;32mc:\\Users\\cmore\\GitHub\\QuantumOrderEffects\\busemeyer_paper.ipynb Cell 10'\u001b[0m in \u001b[0;36mtransition_matrix\u001b[1;34m(alpha, beta, t, dims)\u001b[0m\n\u001b[0;32m      <a href='vscode-notebook-cell:/c%3A/Users/cmore/GitHub/QuantumOrderEffects/busemeyer_paper.ipynb#ch0000009?line=1'>2</a>\u001b[0m \u001b[39mdef\u001b[39;00m \u001b[39mtransition_matrix\u001b[39m( alpha, beta, t, dims ):\n\u001b[0;32m      <a href='vscode-notebook-cell:/c%3A/Users/cmore/GitHub/QuantumOrderEffects/busemeyer_paper.ipynb#ch0000009?line=2'>3</a>\u001b[0m     K \u001b[39m=\u001b[39m intensity_mat( alpha, beta, dims )\n\u001b[1;32m----> <a href='vscode-notebook-cell:/c%3A/Users/cmore/GitHub/QuantumOrderEffects/busemeyer_paper.ipynb#ch0000009?line=3'>4</a>\u001b[0m     T \u001b[39m=\u001b[39m expm( t\u001b[39m*\u001b[39;49mK)\n\u001b[0;32m      <a href='vscode-notebook-cell:/c%3A/Users/cmore/GitHub/QuantumOrderEffects/busemeyer_paper.ipynb#ch0000009?line=4'>5</a>\u001b[0m     \u001b[39mreturn\u001b[39;00m T\n",
      "File \u001b[1;32mc:\\Users\\cmore\\anaconda3\\lib\\site-packages\\scipy\\linalg\\matfuncs.py:255\u001b[0m, in \u001b[0;36mexpm\u001b[1;34m(A)\u001b[0m\n\u001b[0;32m    <a href='file:///c%3A/Users/cmore/anaconda3/lib/site-packages/scipy/linalg/matfuncs.py?line=252'>253</a>\u001b[0m \u001b[39m# Input checking and conversion is provided by sparse.linalg.expm().\u001b[39;00m\n\u001b[0;32m    <a href='file:///c%3A/Users/cmore/anaconda3/lib/site-packages/scipy/linalg/matfuncs.py?line=253'>254</a>\u001b[0m \u001b[39mimport\u001b[39;00m \u001b[39mscipy\u001b[39;00m\u001b[39m.\u001b[39;00m\u001b[39msparse\u001b[39;00m\u001b[39m.\u001b[39;00m\u001b[39mlinalg\u001b[39;00m\n\u001b[1;32m--> <a href='file:///c%3A/Users/cmore/anaconda3/lib/site-packages/scipy/linalg/matfuncs.py?line=254'>255</a>\u001b[0m \u001b[39mreturn\u001b[39;00m scipy\u001b[39m.\u001b[39;49msparse\u001b[39m.\u001b[39;49mlinalg\u001b[39m.\u001b[39;49mexpm(A)\n",
      "File \u001b[1;32mc:\\Users\\cmore\\anaconda3\\lib\\site-packages\\scipy\\sparse\\linalg\\matfuncs.py:591\u001b[0m, in \u001b[0;36mexpm\u001b[1;34m(A)\u001b[0m\n\u001b[0;32m    <a href='file:///c%3A/Users/cmore/anaconda3/lib/site-packages/scipy/sparse/linalg/matfuncs.py?line=545'>546</a>\u001b[0m \u001b[39mdef\u001b[39;00m \u001b[39mexpm\u001b[39m(A):\n\u001b[0;32m    <a href='file:///c%3A/Users/cmore/anaconda3/lib/site-packages/scipy/sparse/linalg/matfuncs.py?line=546'>547</a>\u001b[0m     \u001b[39m\"\"\"\u001b[39;00m\n\u001b[0;32m    <a href='file:///c%3A/Users/cmore/anaconda3/lib/site-packages/scipy/sparse/linalg/matfuncs.py?line=547'>548</a>\u001b[0m \u001b[39m    Compute the matrix exponential using Pade approximation.\u001b[39;00m\n\u001b[0;32m    <a href='file:///c%3A/Users/cmore/anaconda3/lib/site-packages/scipy/sparse/linalg/matfuncs.py?line=548'>549</a>\u001b[0m \n\u001b[1;32m   (...)\u001b[0m\n\u001b[0;32m    <a href='file:///c%3A/Users/cmore/anaconda3/lib/site-packages/scipy/sparse/linalg/matfuncs.py?line=588'>589</a>\u001b[0m \u001b[39m            [  0.        ,   0.        ,  20.08553692]])\u001b[39;00m\n\u001b[0;32m    <a href='file:///c%3A/Users/cmore/anaconda3/lib/site-packages/scipy/sparse/linalg/matfuncs.py?line=589'>590</a>\u001b[0m \u001b[39m    \"\"\"\u001b[39;00m\n\u001b[1;32m--> <a href='file:///c%3A/Users/cmore/anaconda3/lib/site-packages/scipy/sparse/linalg/matfuncs.py?line=590'>591</a>\u001b[0m     \u001b[39mreturn\u001b[39;00m _expm(A, use_exact_onenorm\u001b[39m=\u001b[39;49m\u001b[39m'\u001b[39;49m\u001b[39mauto\u001b[39;49m\u001b[39m'\u001b[39;49m)\n",
      "File \u001b[1;32mc:\\Users\\cmore\\anaconda3\\lib\\site-packages\\scipy\\sparse\\linalg\\matfuncs.py:673\u001b[0m, in \u001b[0;36m_expm\u001b[1;34m(A, use_exact_onenorm)\u001b[0m\n\u001b[0;32m    <a href='file:///c%3A/Users/cmore/anaconda3/lib/site-packages/scipy/sparse/linalg/matfuncs.py?line=670'>671</a>\u001b[0m s \u001b[39m=\u001b[39m s \u001b[39m+\u001b[39m _ell(\u001b[39m2\u001b[39m\u001b[39m*\u001b[39m\u001b[39m*\u001b[39m\u001b[39m-\u001b[39ms \u001b[39m*\u001b[39m h\u001b[39m.\u001b[39mA, \u001b[39m13\u001b[39m)\n\u001b[0;32m    <a href='file:///c%3A/Users/cmore/anaconda3/lib/site-packages/scipy/sparse/linalg/matfuncs.py?line=671'>672</a>\u001b[0m U, V \u001b[39m=\u001b[39m h\u001b[39m.\u001b[39mpade13_scaled(s)\n\u001b[1;32m--> <a href='file:///c%3A/Users/cmore/anaconda3/lib/site-packages/scipy/sparse/linalg/matfuncs.py?line=672'>673</a>\u001b[0m X \u001b[39m=\u001b[39m _solve_P_Q(U, V, structure\u001b[39m=\u001b[39;49mstructure)\n\u001b[0;32m    <a href='file:///c%3A/Users/cmore/anaconda3/lib/site-packages/scipy/sparse/linalg/matfuncs.py?line=673'>674</a>\u001b[0m \u001b[39mif\u001b[39;00m structure \u001b[39m==\u001b[39m UPPER_TRIANGULAR:\n\u001b[0;32m    <a href='file:///c%3A/Users/cmore/anaconda3/lib/site-packages/scipy/sparse/linalg/matfuncs.py?line=674'>675</a>\u001b[0m     \u001b[39m# Invoke Code Fragment 2.1.\u001b[39;00m\n\u001b[0;32m    <a href='file:///c%3A/Users/cmore/anaconda3/lib/site-packages/scipy/sparse/linalg/matfuncs.py?line=675'>676</a>\u001b[0m     X \u001b[39m=\u001b[39m _fragment_2_1(X, h\u001b[39m.\u001b[39mA, s)\n",
      "File \u001b[1;32mc:\\Users\\cmore\\anaconda3\\lib\\site-packages\\scipy\\sparse\\linalg\\matfuncs.py:709\u001b[0m, in \u001b[0;36m_solve_P_Q\u001b[1;34m(U, V, structure)\u001b[0m\n\u001b[0;32m    <a href='file:///c%3A/Users/cmore/anaconda3/lib/site-packages/scipy/sparse/linalg/matfuncs.py?line=706'>707</a>\u001b[0m     \u001b[39mreturn\u001b[39;00m spsolve(Q, P)\n\u001b[0;32m    <a href='file:///c%3A/Users/cmore/anaconda3/lib/site-packages/scipy/sparse/linalg/matfuncs.py?line=707'>708</a>\u001b[0m \u001b[39melif\u001b[39;00m structure \u001b[39mis\u001b[39;00m \u001b[39mNone\u001b[39;00m:\n\u001b[1;32m--> <a href='file:///c%3A/Users/cmore/anaconda3/lib/site-packages/scipy/sparse/linalg/matfuncs.py?line=708'>709</a>\u001b[0m     \u001b[39mreturn\u001b[39;00m solve(Q, P)\n\u001b[0;32m    <a href='file:///c%3A/Users/cmore/anaconda3/lib/site-packages/scipy/sparse/linalg/matfuncs.py?line=709'>710</a>\u001b[0m \u001b[39melif\u001b[39;00m structure \u001b[39m==\u001b[39m UPPER_TRIANGULAR:\n\u001b[0;32m    <a href='file:///c%3A/Users/cmore/anaconda3/lib/site-packages/scipy/sparse/linalg/matfuncs.py?line=710'>711</a>\u001b[0m     \u001b[39mreturn\u001b[39;00m solve_triangular(Q, P)\n",
      "File \u001b[1;32mc:\\Users\\cmore\\anaconda3\\lib\\site-packages\\scipy\\linalg\\basic.py:223\u001b[0m, in \u001b[0;36msolve\u001b[1;34m(a, b, sym_pos, lower, overwrite_a, overwrite_b, debug, check_finite, assume_a, transposed)\u001b[0m\n\u001b[0;32m    <a href='file:///c%3A/Users/cmore/anaconda3/lib/site-packages/scipy/linalg/basic.py?line=219'>220</a>\u001b[0m     x, info \u001b[39m=\u001b[39m getrs(lu, ipvt, b1,\n\u001b[0;32m    <a href='file:///c%3A/Users/cmore/anaconda3/lib/site-packages/scipy/linalg/basic.py?line=220'>221</a>\u001b[0m                     trans\u001b[39m=\u001b[39mtrans, overwrite_b\u001b[39m=\u001b[39moverwrite_b)\n\u001b[0;32m    <a href='file:///c%3A/Users/cmore/anaconda3/lib/site-packages/scipy/linalg/basic.py?line=221'>222</a>\u001b[0m     _solve_check(n, info)\n\u001b[1;32m--> <a href='file:///c%3A/Users/cmore/anaconda3/lib/site-packages/scipy/linalg/basic.py?line=222'>223</a>\u001b[0m     rcond, info \u001b[39m=\u001b[39m gecon(lu, anorm, norm\u001b[39m=\u001b[39;49mnorm)\n\u001b[0;32m    <a href='file:///c%3A/Users/cmore/anaconda3/lib/site-packages/scipy/linalg/basic.py?line=223'>224</a>\u001b[0m \u001b[39m# Hermitian case 'hesv'\u001b[39;00m\n\u001b[0;32m    <a href='file:///c%3A/Users/cmore/anaconda3/lib/site-packages/scipy/linalg/basic.py?line=224'>225</a>\u001b[0m \u001b[39melif\u001b[39;00m assume_a \u001b[39m==\u001b[39m \u001b[39m'\u001b[39m\u001b[39mher\u001b[39m\u001b[39m'\u001b[39m:\n",
      "\u001b[1;31mKeyboardInterrupt\u001b[0m: "
     ]
    }
   ],
   "source": [
    "\n",
    "\n",
    "vals_self_first_df = pd.DataFrame([], columns=[\"ratingS\", \"ratingO\",\"alphaS\", \"betaS\", \"alphaO\", \"betaO\", \"prob\"])\n",
    "vals_other_first_df = pd.DataFrame([], columns=[\"ratingS\", \"ratingO\",\"alphaS\", \"betaS\", \"alphaO\", \"betaO\", \"prob\"])\n",
    "\n",
    "vals_self_first = []\n",
    "vals_other_first = []\n",
    "\n",
    "i=0\n",
    "for alphaS in np.arange(-15,15,0.1):\n",
    "    for betaS in np.arange(-15,15,0.1):\n",
    "        for alphaO in np.arange(-15,15,0.1):\n",
    "            for betaO in np.arange(-15,15,0.1):\n",
    "                for ratingS in range(1,11):\n",
    "                    if i%5000 == 0 & i > 0:\n",
    "                        print([i,vals_self_first[-1]])\n",
    "                        print(\"\\n\\n\")\n",
    "                        \n",
    "                    for ratingO in range(1,11):\n",
    "                        probS = run_projections(99, 11, alphaS, alphaO, betaS, betaO, 1, ratingS, ratingO, 1)\n",
    "                        probO = run_projections(99, 11, alphaS, alphaO, betaS, betaO, 1, ratingS, ratingO, 2)\n",
    "                        probS = np.round(probS,6)\n",
    "                        probO = np.round(probO,6)\n",
    "\n",
    "                        vals_self_first_df.iloc[i:]= [ratingS, ratingO, alphaS, betaS, alphaO, betaO, probS]\n",
    "                        vals_other_first_df.iloc[i:]=[ratingS, ratingO, alphaS, betaS, alphaO, betaO, probO]\n",
    "\n",
    "                        vals_self_first.append( list([ratingS, ratingO, alphaS, betaS, alphaO, betaO, probS]) )\n",
    "                        vals_other_first.append( list([ratingS, ratingO, alphaS, betaS, alphaO, betaO, probO]) )\n",
    "                        i = i+1\n",
    "\n"
   ]
  },
  {
   "cell_type": "code",
   "execution_count": 9,
   "metadata": {},
   "outputs": [
    {
     "data": {
      "text/plain": [
       "[6,\n",
       " 6,\n",
       " -15.0,\n",
       " -15.0,\n",
       " -12.30000000000001,\n",
       " -7.200000000000028,\n",
       " -8.897071035968449e+39]"
      ]
     },
     "execution_count": 9,
     "metadata": {},
     "output_type": "execute_result"
    }
   ],
   "source": [
    "vals_self_first[-1]"
   ]
  },
  {
   "cell_type": "code",
   "execution_count": 135,
   "metadata": {},
   "outputs": [],
   "source": [
    "def run_projections(Ndim, base, alpha_s, alpha_o, beta_s, beta_o, t, rating_s, rating_o, order):\n",
    "    rating_init = int( np.floor(base/2) )\n",
    "\n",
    "    E0 = initial_state( rating_init, Ndim, base)\n",
    "    Ts = transition_matrix( alpha_s , beta_s, t, Ndim )\n",
    "    To = transition_matrix( alpha_o , beta_o, t, Ndim )\n",
    "\n",
    "    Ms = projection_mat( rating_s, Ndim, base )\n",
    "    Mo = projection_mat( rating_o, Ndim, base )\n",
    "\n",
    "    L = np.ones(Ndim)\n",
    "    if order == 1:\n",
    "        prob = np.matmul(L, np.matmul(Mo, np.matmul(To, np.matmul(Ms, np.matmul(Ts,E0)))))\n",
    "    else:\n",
    "        prob = np.matmul(L, np.matmul(Ms, np.matmul(Ts, np.matmul(Mo, np.matmul(To,E0)))))\n",
    "\n",
    "    return prob\n",
    "\n",
    "def run_experiment(Ndim, base, alpha_s, alpha_o, beta_s, beta_o, t, rating_in, order):\n",
    "    full_joint = []\n",
    "    for rating in range(1, 10):\n",
    "        for rating_in in range(1,10):\n",
    "            full_joint = run_projections(Ndim, base, alpha_s, alpha_o, beta_s, beta_o, t, rating_in, rating, order)\n",
    "            # prob = round(prob, 4)\n",
    "            full_joint.append(full_joint)\n",
    "    return   \n",
    "    #probs_norm = full_joint / np.sum(probs)\n",
    "    #print(\"Normalised Probabilities\")\n",
    "    #for p in range(1, len(probs_norm) + 1):\n",
    "    #    if order == 1:\n",
    "    #        print(f\"Pr( Self Rat = %d, Other Rat = %d ) =  %.6f\" %(p, rating_in, probs_norm[p-1]))\n",
    "    #    else:\n",
    "    #        print(f\"Pr( Other Rat = %d, Self Rat = %d ) =  %.6f\" %(p, rating_in, probs_norm[p-1]))\n",
    "        "
   ]
  },
  {
   "cell_type": "code",
   "execution_count": 132,
   "metadata": {},
   "outputs": [
    {
     "name": "stdout",
     "output_type": "stream",
     "text": [
      "Normalised Probabilities\n",
      "Pr( Other Rat = 1 | Self Rat = 1 ) =  0.014042\n",
      "Pr( Other Rat = 2 | Self Rat = 1 ) =  0.640635\n",
      "Pr( Other Rat = 3 | Self Rat = 1 ) =  0.342315\n",
      "Pr( Other Rat = 4 | Self Rat = 1 ) =  0.003008\n",
      "Pr( Other Rat = 5 | Self Rat = 1 ) =  0.000001\n",
      "Pr( Other Rat = 6 | Self Rat = 1 ) =  0.000000\n",
      "Pr( Other Rat = 7 | Self Rat = 1 ) =  0.000000\n",
      "Pr( Other Rat = 8 | Self Rat = 1 ) =  0.000000\n",
      "Pr( Other Rat = 9 | Self Rat = 1 ) =  0.000000\n",
      "\n",
      "\n",
      "Normalised Probabilities\n",
      "Pr( Self Rat = 1 | Other Rat = 1 ) =  0.000001\n",
      "Pr( Self Rat = 2 | Other Rat = 1 ) =  0.055736\n",
      "Pr( Self Rat = 3 | Other Rat = 1 ) =  0.888526\n",
      "Pr( Self Rat = 4 | Other Rat = 1 ) =  0.055736\n",
      "Pr( Self Rat = 5 | Other Rat = 1 ) =  0.000001\n",
      "Pr( Self Rat = 6 | Other Rat = 1 ) =  0.000000\n",
      "Pr( Self Rat = 7 | Other Rat = 1 ) =  0.000000\n",
      "Pr( Self Rat = 8 | Other Rat = 1 ) =  0.000000\n",
      "Pr( Self Rat = 9 | Other Rat = 1 ) =  0.000000\n"
     ]
    }
   ],
   "source": [
    "Ndim = 99 \n",
    "base = 11 \n",
    "t = 1\n",
    "rating_s = 1\n",
    "rating_o = 1\n",
    "\n",
    "alpha_s = 4.5975\n",
    "alpha_o = 4.5975\n",
    "beta_s = 14.5725\n",
    "beta_o = 14.5725\n",
    "\n",
    "order = 1 # self first, then other\n",
    "run_experiment(Ndim, base, alpha_s, alpha_o, beta_s, beta_o, t, rating_s, order)\n",
    "print(\"\\n\")\n",
    "order = 2 # other first, then self\n",
    "run_experiment(Ndim, base, alpha_s, alpha_o, beta_s, beta_o, t, rating_o, order)\n",
    "\n"
   ]
  },
  {
   "cell_type": "code",
   "execution_count": null,
   "metadata": {},
   "outputs": [],
   "source": []
  }
 ],
 "metadata": {
  "interpreter": {
   "hash": "6260509064eb67b36916815bc82da85b0a66bf2dbc63b7ed396e364365f7498b"
  },
  "kernelspec": {
   "display_name": "Python 3.9.12 ('base')",
   "language": "python",
   "name": "python3"
  },
  "language_info": {
   "codemirror_mode": {
    "name": "ipython",
    "version": 3
   },
   "file_extension": ".py",
   "mimetype": "text/x-python",
   "name": "python",
   "nbconvert_exporter": "python",
   "pygments_lexer": "ipython3",
   "version": "3.9.12"
  },
  "orig_nbformat": 4
 },
 "nbformat": 4,
 "nbformat_minor": 2
}
